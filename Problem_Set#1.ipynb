{
  "metadata": {
    "language_info": {
      "codemirror_mode": {
        "name": "python",
        "version": 3
      },
      "file_extension": ".py",
      "mimetype": "text/x-python",
      "name": "python",
      "nbconvert_exporter": "python",
      "pygments_lexer": "ipython3",
      "version": "3.8"
    },
    "kernelspec": {
      "name": "python",
      "display_name": "Pyolite",
      "language": "python"
    }
  },
  "nbformat_minor": 4,
  "nbformat": 4,
  "cells": [
    {
      "cell_type": "code",
      "source": "Question 1\nWhat data type is each of the following (evaluate where necessary)?\n\n5 \n5.0\n5 > 1\n'5'\n5 * 2\n'5' * 2\n'5' + '2'\n5 / 2\n5 % 2\n{5, 2, 1}\n5 == 3\nPi (the number) 3.1415926535",
      "metadata": {
        "trusted": true
      },
      "execution_count": null,
      "outputs": []
    },
    {
      "cell_type": "code",
      "source": "a = 5 \nprint (type(a))\na = 5.0\nprint (type(a))\na = 5 > 1\nprint (type(a))\na = '5'\nprint (type(a))\na = 5 * 2\nprint (type(a))\na = '5' * 2\nprint (type(a))\na = '5' + '2'\nprint (type(a))\na = 5 / 2\nprint (type(a))\na = 5 % 2\nprint (type(a))\na = {5, 2, 1}\nprint (type(a))\na = 5 == 3\nprint (type(a))\na = 3.1415926535\nprint (type(a))",
      "metadata": {
        "trusted": true
      },
      "execution_count": 5,
      "outputs": [
        {
          "name": "stdout",
          "text": "<class 'int'>\n<class 'float'>\n<class 'bool'>\n<class 'str'>\n<class 'int'>\n<class 'str'>\n<class 'str'>\n<class 'float'>\n<class 'int'>\n<class 'set'>\n<class 'bool'>\n<class 'float'>\n",
          "output_type": "stream"
        }
      ]
    },
    {
      "cell_type": "code",
      "source": "Question 2\n\nWrite (and evaluate) python expressions that answer these questions:\na. How many letters are there in 'Supercalifragilisticexpialidocious'?\nb. Does 'Supercalifragilisticexpialidocious' contain 'ice' as a substring? \nc. Which of the following words is the longest: \nSupercalifragilisticexpialidocious, Honorificabilitudinitatibus, or \nBababadalgharaghtakamminarronnkonn? \nd. Which composer comes first in the dictionary: 'Berlioz', 'Borodin', 'Brian', \n'Bartok', 'Bellini', 'Buxtehude', 'Bernstein'. Which one comes last?",
      "metadata": {},
      "execution_count": null,
      "outputs": []
    },
    {
      "cell_type": "code",
      "source": "a = 'Supercalifragilisticexpialidocious'\nprint (len(a))",
      "metadata": {
        "trusted": true
      },
      "execution_count": 6,
      "outputs": [
        {
          "name": "stdout",
          "text": "34\n",
          "output_type": "stream"
        }
      ]
    },
    {
      "cell_type": "code",
      "source": "string = 'Supercalifragilisticexpialidocious'\nsubstring = 'ice'\nif string.find(substring):\n    print (\"ice is the substring\")\nelse:\n    print (\"ice is not a substring\")\n    ",
      "metadata": {
        "trusted": true
      },
      "execution_count": 7,
      "outputs": [
        {
          "name": "stdout",
          "text": "ice is the substring\n",
          "output_type": "stream"
        }
      ]
    },
    {
      "cell_type": "code",
      "source": "str_list = [\"Supercalifragilisticexpialidocious\", \"Honorificabilitudinitatibus\", \"Bababadalgharaghtakamminarronnkonn\"]\nlongest_str = max(str_list, key=len)\nprint(longest_str)",
      "metadata": {
        "trusted": true
      },
      "execution_count": 8,
      "outputs": [
        {
          "name": "stdout",
          "text": "Supercalifragilisticexpialidocious\n",
          "output_type": "stream"
        }
      ]
    },
    {
      "cell_type": "code",
      "source": "str_1 = 'Supercalifragilisticexpialidocious'\nstr_2 = 'Honorificabilitudinitatibus'\nstr_3 = 'Bababadalgharaghtakamminarronnkonn'\nlength = [len(str_1),len(str_2),len(str_3)]\nmax_val = max (length)\na=''\nb=''\nc=''\nif (max_val == len(str_1)):\n    a = str_1\nelse:\n    a = ''\nif (max_val == len(str_2)):\n    b = str_2\nelse:\n    b = ''\nif (max_val == len(str_3)):\n    c = str_3\nelse:\n    c = ''\n            \nprint( a,b,c+ 'is the longest strings given')",
      "metadata": {
        "trusted": true
      },
      "execution_count": 9,
      "outputs": [
        {
          "name": "stdout",
          "text": "Supercalifragilisticexpialidocious  Bababadalgharaghtakamminarronnkonnis the longest strings given\n",
          "output_type": "stream"
        }
      ]
    },
    {
      "cell_type": "code",
      "source": "str_list = ['Berlioz', 'Borodin', 'Brian', 'Bartok', 'Bellini', 'Buxtehude', 'Bernstein']\nprint (min(str_list)+ \" is the composer which comes first in the dictionary\")\nprint (max(str_list)+ \" is the composer which comes last in the dictionary\")",
      "metadata": {
        "trusted": true
      },
      "execution_count": 10,
      "outputs": [
        {
          "name": "stdout",
          "text": "Bartok is the composer which comes first in the dictionary\nBuxtehude is the composer which comes last in the dictionary\n",
          "output_type": "stream"
        }
      ]
    },
    {
      "cell_type": "code",
      "source": "Question 3\n\nImplement function triangleArea(a,b,c) that takes as input the lengths of the 3\nsides of a triangle and returns the area of the triangle. By Heron's formula, the area \nof a triangle with side lengths a, b, and c is\ns(s - a)(s -b)(s -c)\n, where \ns = (a+b+c)/2. \n>>> triangleArea(2,2,2)\n1.7320508075688772",
      "metadata": {},
      "execution_count": null,
      "outputs": []
    },
    {
      "cell_type": "code",
      "source": "def triangleArea(a,b,c):\n    s = (a+b+c) // 2\n    area = (s-a)*(s-b)*(s-c)\n    area=area*s\n    val=area**0.5\n    print('The area of the triangle is ' + str(val))\n    return\na,b,c=map(int,input().split())\ntriangleArea(a,b,c)\nprint(triangleArea)",
      "metadata": {
        "trusted": true
      },
      "execution_count": 25,
      "outputs": [
        {
          "ename": "<class 'AttributeError'>",
          "evalue": "'Future' object has no attribute 'split'",
          "traceback": [
            "\u001b[0;31m---------------------------------------------------------------------------\u001b[0m",
            "\u001b[0;31mAttributeError\u001b[0m                            Traceback (most recent call last)",
            "Input \u001b[0;32mIn [25]\u001b[0m, in \u001b[0;36m<cell line: 8>\u001b[0;34m()\u001b[0m\n\u001b[1;32m      6\u001b[0m     \u001b[38;5;28mprint\u001b[39m(\u001b[38;5;124m'\u001b[39m\u001b[38;5;124mThe area of the triangle is \u001b[39m\u001b[38;5;124m'\u001b[39m \u001b[38;5;241m+\u001b[39m \u001b[38;5;28mstr\u001b[39m(val))\n\u001b[1;32m      7\u001b[0m     \u001b[38;5;28;01mreturn\u001b[39;00m\n\u001b[0;32m----> 8\u001b[0m a,b,c\u001b[38;5;241m=\u001b[39m\u001b[38;5;28mmap\u001b[39m(\u001b[38;5;28mint\u001b[39m,\u001b[38;5;28;43minput\u001b[39;49m\u001b[43m(\u001b[49m\u001b[43m)\u001b[49m\u001b[38;5;241;43m.\u001b[39;49m\u001b[43msplit\u001b[49m())\n\u001b[1;32m      9\u001b[0m triangleArea(a,b,c)\n\u001b[1;32m     10\u001b[0m \u001b[38;5;28mprint\u001b[39m(triangleArea)\n",
            "\u001b[0;31mAttributeError\u001b[0m: 'Future' object has no attribute 'split'"
          ],
          "output_type": "error"
        }
      ]
    },
    {
      "cell_type": "code",
      "source": "a = 2\nb = 2\nc = 2\ns = (a+b+c) / 2\narea = (s*(s-a)*(s-b)*(s-c)) ** 0.5\nprint('The area of the triangle is ' +str(area))",
      "metadata": {
        "trusted": true
      },
      "execution_count": 12,
      "outputs": [
        {
          "name": "stdout",
          "text": "The area of the triangle is 1.7320508075688772\n",
          "output_type": "stream"
        }
      ]
    },
    {
      "cell_type": "code",
      "source": "Question 4\n\nWrite a program in python to separate odd and even integers in separate arrays. Go \nto the editor\nTest Data :\nInput the number of elements to be stored in the array :5\nInput 5 elements in the array :\nelement - 0 : 25\nelement - 1 : 47\nelement - 2 : 42\nelement - 3 : 56\nelement - 4 : 32\nExpected Output:\nThe Even elements are:\n42 56 32\nThe Odd elements are :\n25 47",
      "metadata": {},
      "execution_count": null,
      "outputs": []
    },
    {
      "cell_type": "code",
      "source": "element = [25, 47, 42, 56, 32]\ni = 0\nj = len (element)-1\neven = []\nodd = []\n\nwhile (i <= j):\n    if (element[i] % 2 == 0):\n        even.append(element[i])\n    else:\n        odd.append(element[i])\n    i += 1\nprint('The Even elements are:  ' +str(even))\nprint('The Odd elements are :  ' +str(odd))",
      "metadata": {
        "trusted": true
      },
      "execution_count": 13,
      "outputs": [
        {
          "name": "stdout",
          "text": "The Even elements are:  [42, 56, 32]\nThe Odd elements are :  [25, 47]\n",
          "output_type": "stream"
        }
      ]
    },
    {
      "cell_type": "code",
      "source": "Question 5 \n\na. Write a function inside(x,y,x1,y1,x2,y2) that returns True or False \ndepending on whether the point (x,y) lies in the rectangle with lower left \ncorner (x1,y1) and upper right corner (x2,y2).\n>>> inside(1,1,0,0,2,3)\nTrue\n>>> inside(-1,-1,0,0,2,3)\nFalse\nb. Use function inside() from part a. to write an expression that tests whether \nthe point (1,1) lies in both of the following rectangles: one with lower left \ncorner (0.3, 0.5) and upper right corner (1.1, 0.7) and the other with lower \nleft corner (0.5, 0.2) and upper right corner (1.1, 2).",
      "metadata": {},
      "execution_count": null,
      "outputs": []
    },
    {
      "cell_type": "code",
      "source": "  ",
      "metadata": {},
      "execution_count": null,
      "outputs": []
    },
    {
      "cell_type": "code",
      "source": "Question 6\n16. You can turn a word into pig-Latin using the following two rules (simplified):\n• If the word starts with a consonant, move that letter to the end and append \n'ay'. For example, 'happy' becomes 'appyhay' and 'pencil' becomes 'encilpay'.\n• If the word starts with a vowel, simply append 'way' to the end of the word. \nFor example, 'enter' becomes 'enterway' and 'other' becomes 'otherway' . For \nour purposes, there are 5 vowels: a, e, i, o, u (so we count y as a consonant).\nWrite a function pig() that takes a word (i.e., a string) as input and returns its pig\u0002Latin form. Your function should still work if the input word contains upper case \ncharacters. Your output should always be lower case however. \n>>> pig('happy')\n'appyhay'\n>>> pig('Enter')\n'enterway'",
      "metadata": {},
      "execution_count": null,
      "outputs": []
    },
    {
      "cell_type": "code",
      "source": "def pig(n):\n    a=[]\n    b=['a','e','i','o','u','A','E','I','O','U']\n    for i in n:\n       if i not in b:\n          a.append(n[1:len(n)+1])\n          a.append('ay')\n          print(*a,sep='')\n          break\n       elif i in b:\n          a.append(n)\n          a.append('way')\n          print(*a,sep='')\n          break\n          return\n    \nprint(\"Enter a word\")\nm=input().strip()\npig(m)\nprint(pig)",
      "metadata": {
        "trusted": true
      },
      "execution_count": 22,
      "outputs": [
        {
          "name": "stdout",
          "text": "Enter a word\n",
          "output_type": "stream"
        },
        {
          "ename": "<class 'TypeError'>",
          "evalue": "'Future' object is not subscriptable",
          "traceback": [
            "\u001b[0;31m---------------------------------------------------------------------------\u001b[0m",
            "\u001b[0;31mTypeError\u001b[0m                                 Traceback (most recent call last)",
            "Input \u001b[0;32mIn [22]\u001b[0m, in \u001b[0;36m<cell line: 5>\u001b[0;34m()\u001b[0m\n\u001b[1;32m      3\u001b[0m a\u001b[38;5;241m=\u001b[39m[]\n\u001b[1;32m      4\u001b[0m b\u001b[38;5;241m=\u001b[39m[\u001b[38;5;124m'\u001b[39m\u001b[38;5;124ma\u001b[39m\u001b[38;5;124m'\u001b[39m,\u001b[38;5;124m'\u001b[39m\u001b[38;5;124me\u001b[39m\u001b[38;5;124m'\u001b[39m,\u001b[38;5;124m'\u001b[39m\u001b[38;5;124mi\u001b[39m\u001b[38;5;124m'\u001b[39m,\u001b[38;5;124m'\u001b[39m\u001b[38;5;124mo\u001b[39m\u001b[38;5;124m'\u001b[39m,\u001b[38;5;124m'\u001b[39m\u001b[38;5;124mu\u001b[39m\u001b[38;5;124m'\u001b[39m,\u001b[38;5;124m'\u001b[39m\u001b[38;5;124mA\u001b[39m\u001b[38;5;124m'\u001b[39m,\u001b[38;5;124m'\u001b[39m\u001b[38;5;124mE\u001b[39m\u001b[38;5;124m'\u001b[39m,\u001b[38;5;124m'\u001b[39m\u001b[38;5;124mI\u001b[39m\u001b[38;5;124m'\u001b[39m,\u001b[38;5;124m'\u001b[39m\u001b[38;5;124mO\u001b[39m\u001b[38;5;124m'\u001b[39m,\u001b[38;5;124m'\u001b[39m\u001b[38;5;124mU\u001b[39m\u001b[38;5;124m'\u001b[39m]\n\u001b[0;32m----> 5\u001b[0m \u001b[38;5;28;01mif\u001b[39;00m \u001b[43mtext\u001b[49m\u001b[43m[\u001b[49m\u001b[38;5;241;43m0\u001b[39;49m\u001b[43m]\u001b[49m \u001b[38;5;129;01mnot\u001b[39;00m \u001b[38;5;129;01min\u001b[39;00m b:\n\u001b[1;32m      6\u001b[0m     a\u001b[38;5;241m.\u001b[39mappend(text[\u001b[38;5;241m1\u001b[39m:\u001b[38;5;28mlen\u001b[39m(text)\u001b[38;5;241m+\u001b[39m\u001b[38;5;241m1\u001b[39m])\n\u001b[1;32m      7\u001b[0m     a\u001b[38;5;241m.\u001b[39mappend(\u001b[38;5;124m'\u001b[39m\u001b[38;5;124may\u001b[39m\u001b[38;5;124m'\u001b[39m)\n",
            "\u001b[0;31mTypeError\u001b[0m: 'Future' object is not subscriptable"
          ],
          "output_type": "error"
        },
        {
          "output_type": "stream",
          "name": "stdin",
          "text": " hiiii\n"
        }
      ]
    },
    {
      "cell_type": "code",
      "source": "Note : Sir my above code is running in online but not running in jupter notebook sir.",
      "metadata": {},
      "execution_count": null,
      "outputs": []
    },
    {
      "cell_type": "code",
      "source": "Question 7\nFile bloodtype1.txt records blood-types of patients (A, B, AB, O or OO) at a clinic. \nWrite a function bldcount() that reads the file with name name and reports (i.e., \nprints) how many patients there are in each bloodtype.\n>>> bldcount('bloodtype.txt')\nThere are 10 patients of blood type A.\nThere is one patient of blood type B.\nThere are 10 patients of blood type AB.\nThere are 12 patients of blood type O.\nThere are no patients of blood type OO.",
      "metadata": {},
      "execution_count": null,
      "outputs": []
    },
    {
      "cell_type": "code",
      "source": "file = open('bloodtype1.txt', 'r')\ndata = file.read() \nwords = data.split() \nprint('Number of  patients of blood type A :', len())\n",
      "metadata": {},
      "execution_count": null,
      "outputs": []
    },
    {
      "cell_type": "code",
      "source": "Question 8\nWrite a function curconv() that takes as input:\n1. a currency represented using a string (e.g., 'JPY' for the Japanese Yen or \n'EUR' for the Euro)\n2. an amount\nand then converts and returns the amount in US dollars.\n>>> curconv('EUR', 100)\n122.96544\n>>> curconv('JPY', 100)\n1.241401\nThe currency rates you will need are stored in file currencies.txt:\nAUD 1.0345157 Australian Dollar\nCHF 1.0237414 Swiss Franc\nCNY 0.1550176 Chinese Yuan\nDKK 0.1651442 Danish Krone\nEUR 1.2296544 Euro\nGBP 1.5550989 British Pound\nHKD 0.1270207 Hong Kong Dollar\nINR 0.0177643 Indian Rupee\nJPY 0.01241401 Japanese Yen\nMXN 0.0751848 Mexican Peso\nMYR 0.3145411 Malaysian Ringgit\nNOK 0.1677063 Norwegian Krone\nNZD 0.8003591 New Zealand Dollar\nPHP 0.0233234 Philippine Peso\nSEK 0.148269 Swedish Krona\nSGD 0.788871 Singapore Dollar\nTHB 0.0313789 Thai Baht",
      "metadata": {},
      "execution_count": null,
      "outputs": []
    },
    {
      "cell_type": "code",
      "source": "file = open(\"F:\\data\\currencyconv.txt\", \"rt\") \ndata = file.readlines() \nwords = data.split() \n\n",
      "metadata": {},
      "execution_count": null,
      "outputs": []
    },
    {
      "cell_type": "code",
      "source": "Question 9\nEach of the following will cause an exception (an error). Identify what type of \nexception each will cause.\n\nTrying to add incompatible variables, as in adding 6 + ‘a’\n=> Typeerror: Unsupported operand type int and str.\n\nReferring to the 12th item of a list that has only 10 items\n=> IndexError : List index out of range.\n\nUsing a value that is out of range for a function’s input, such as calling math.sqrt(-1.0)\n=> ValueError: Math domain error.\n\nUsing an undeclared variable, such as print(x) when x has not been defined\n=> NameError: x is not defined.\n\nTrying to open a file that does not exist, such as mistyping the file name or looking in the wrong directory. \n=> FileNotFoundError: No such file or a directory.\n",
      "metadata": {},
      "execution_count": null,
      "outputs": []
    },
    {
      "cell_type": "code",
      "source": "Question 10\n\nEncryption is the process of hiding the meaning of a text by substituting letters in the \nmessage with other letters, according to some system. If the process is successful, no \none but the intended recipient can understand the encrypted message. Cryptanalysis\nrefers to attempts to undo the encryption, even if some details of the encryption are \nunknown (for example, if an encrypted message has been intercepted). The first step \nof cryptanalysis is often to build up a table of letter frequencies in the encrypted text. \nAssume that the string letters is already defined as \n'abcdefghijklmnopqrstuvwxyz'. Write a function called frequencies()\nthat takes a string as its only parameter, and returns a list of integers, showing the \nnumber of times each character appears in the text. Your function may ignore any \ncharacters that are not in letters.\n\n>>> frequencies('The quick red fox got bored and went home.')\n[1, 1, 1, 3, 5, 1, 1, 2, 1, 0, 1, 0, 1, 2, 4, 0, 1, 2, 0, 2, \n1, 0, 1, 1, 0, 0]\n>>> frequencies('apple')",
      "metadata": {},
      "execution_count": null,
      "outputs": []
    },
    {
      "cell_type": "code",
      "source": "##\n26 list string \nstr to list\nfor loop a to z\n26 letters \nchar in \ncount \nlist append count\n##",
      "metadata": {},
      "execution_count": null,
      "outputs": []
    }
  ]
}